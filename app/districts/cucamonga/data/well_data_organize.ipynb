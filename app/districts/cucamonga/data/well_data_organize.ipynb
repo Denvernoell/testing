{
 "cells": [
  {
   "cell_type": "code",
   "execution_count": 7,
   "metadata": {},
   "outputs": [],
   "source": [
    "import pandas as pd\n",
    "dfs = pd.read_excel(\n",
    "\t'well_data_sheet.xlsx',\n",
    "\tsheet_name=None,\n",
    ")"
   ]
  },
  {
   "cell_type": "code",
   "execution_count": 20,
   "metadata": {},
   "outputs": [],
   "source": [
    "def get_categories(df):\n",
    "\treturn df.groupby(['category']).agg({'name':list})\n",
    "\treturn df.groupby(['required']).agg({'name':list})\n",
    "\n",
    "get_categories(dfs['categories'])['name'].to_json(\n",
    "\t'categories.json',\n",
    "\t# 'required.json',\n",
    ")"
   ]
  },
  {
   "cell_type": "code",
   "execution_count": 18,
   "metadata": {},
   "outputs": [
    {
     "data": {
      "text/plain": [
       "'{\"System Name\":\"Cucamonga CWD\",\"System Number\":3610018,\"Source of Information (well log, DHS\\\\/County files, system, etc)\":\"Files\",\"Organization Collecting Information (DHS, County, System, other)\":\"DHS\",\"Date Information Collected\\\\/Updated\":\"06\\\\/27\\\\/1996-11\\\\/19\\\\/01\",\"Well Number or Name\":\"Well No. 1\",\"DHS Source Identification Number (FRDS ID No.)\":\"3610018-002\",\"DWR Well Log on File? (\\\\\"YES\\\\\" or \\\\\"NO\\\\\")\":\"Yes\",\"State Well Number (from DWR)\":\"01S\\\\/07W-14E01 S\",\"Well Status (Active, Standby, Inactive)\":\"Active\",\"Latitude\":34.08817332,\"Longitude\":-117.5924,\"Ground Surface Elevation (ft above Mean Sea Level)\":1081,\"Street Address\":\"9745 7th Street\",\"Nearest Cross Street\":\"Archibald Ave. & 7th Street\",\"City\":\"Rancho Cucamonga\",\"County\":\"San Bernardino\",\"Neighborhood\\\\/Surrounding Area (see Note 1)\":\"Residential\",\"Site plan on file? (\\\\\"YES\\\\\" or \\\\\"NO\\\\\")\":\"Yes\",\"DWR Ground Water Basin\":\"Chino Basin\",\"DWR Ground Water Sub-basin\":null,\"Distance to closest Sewer Line, Sewage Disposal, Septic Tank (ft)\":\"300 ft\",\"Distance to Active Wells (ft)\":\"384 ft\",\"Distance to Abandoned Wells (ft)\":\"None\",\"Distance to Surface Water (ft)\":\"None\",\"Size of controlled area around well (square feet)\":13500,\"Type of access control to well site (fencing, building, etc)\":\"chain link fencing, block wall\",\"Surface Seal? (Concrete slab)(\\\\\"YES\\\\\", \\\\\"NO\\\\\" or \\\\\"UNKNOWN\\\\\")\":\"Yes\",\"Dimensions of concrete slab: Length(ft)\\\\/ Width(ft)\\\\/ Thick(in)\":\"10 \\\\/ 10\",\"Within 100 year flood plain? (\\\\\"YES\\\\\", \\\\\"NO\\\\\" or \\\\\"UNKNOWN\\\\\")\":\"UNKNOWN\",\"Drainage away from well? (\\\\\"YES\\\\\" or \\\\\"NO\\\\\")\":\"Good\",\"Enclosure Type (building, vault, none, etc.)\":\"None\",\"Floor material\":\"Concrete pedestal on pad.  New pedestal to be constructed\",\"Located in Pit? (\\\\\"YES\\\\\" or \\\\\"NO\\\\\")\":\"No \",\"Pit depth (feet) (if applicable)\":\"None\",\"Date drilled\":\"April 28, 1954\",\"Drilling Method\":\"Cable Tool\",\"Depth of Bore Hole (feet below ground surface)\":\"1206 ft\",\"Casing Beginning Depth\\\\/Ending Depth(ft below surface);\\\\n2nd Casing Beginning Depth\\\\/Ending Depth; 3rd Casing, etc.\":\"1206 ft\",\"Casing Diameter (inches); 2nd Casing Diameter; 3rd Casing, etc.\":\"20 inches\",\"Casing Material; 2nd Casing Material; 3rd Casing, etc.\":\"8 gauge, double steel\",\"Conductor casing used? (\\\\\"YES\\\\\", \\\\\"NO\\\\\" or \\\\\"UNKNOWN\\\\\") (See Note 2)\":\"None\",\"Conductor casing removed? (\\\\\"YES\\\\\", \\\\\"NO\\\\\" or \\\\\"UNKNOWN\\\\\")\":null,\"Depth to highest perforations\\\\/screens (ft below surface) (or \\\\\"UNKNOWN\\\\\")\":432,\"Screened Interval Beginning Depth\\\\/Ending Depth (ft below surface); 2nd Screened Interval Beg. Depth\\\\/Ending Depth; 3rd Screened Interval, etc.\":\"432\\\\/1184\",\"Total length of screened interval (ft) 2nd Screened Interval Beg. Depth\\\\/Ending Depth; 3rd Screened Interval, etc. (default = 10% pump capacity in gpm) (or \\\\\"UNKNOWN\\\\\")\":752,\"Annular Seal?(\\\\\"YES\\\\\", \\\\\"NO\\\\\" or \\\\\"UNKNOWN\\\\\") (See Note 3)\":\"None - cable tool construction\",\"Depth of Annular Seal (ft)\":null,\"Material of Annular Seal (cement grout, bentonite, etc.)\":null,\"Gravel pack, Depth to top (ft below ground surface)\":\"No\",\"Total length of gravel pack (ft)\":null,\"Aquifer Materials (list all that apply: sand, silt, clay, gravel, rock, fractured rock)\":\"clay, sand, gravel, rock\",\"Effective porosity (decimal percent) (default = 0.2) (or \\\\\"UNKNOWN\\\\\")\":\"UNKNOWN\",\"Confining layer (Impervious Strata) above aquifer? (\\\\\"YES\\\\\", \\\\\"NO\\\\\" or \\\\\"UNKNOWN\\\\\")\":\"UNKNOWN\",\"Thickness of confining layer, if known (ft)\":null,\"Depth to confining layer, if known (ft below ground)\":null,\"Static water level (ft below ground surface)\":\"476 ft\",\"Static water level measurement: Date\\\\/Method\":\"10\\\\/24\\\\/2001 - Cable Sounder\",\"Pumping water level (ft below ground surface)\":510,\"Pumping water level measurement: Date\\\\/Method\":\"10\\\\/24\\\\/2001 - Cable Sounder\",\"Well Yield (gpm)\":\"1492 GPM\",\"Well Yield Based On (i.e., pump test, etc.)\":\"Meter Timing\",\"Date measured\":1006560000000,\"Is the well metered? (\\\\\"YES\\\\\" or \\\\\"NO\\\\\")\":\"YES\",\"Production (gallons per year)\":149891460,\"Frequency of Use (hours\\\\/year)\":\"Daily in summer\",\"Typical pumping duration (hours\\\\/day)\":\"18 hrs\\\\/day (summer)\",\"Make\":\"Layne & Bowler (8 stage)\",\"Type\":\"Deep Well Turbine (350 HP U.S. motor)\",\"Size (hp)\":350,\"Capacity (gpm)\":\"1564 gpm\",\"Depth to suction intake (ft below ground surface)\":580,\"Lubrication Type\":\"Chevron FM ISO 46 oil\",\"Type of Power: (i.e., electric, diesel, etc.)\":\"Electric\",\"Auxiliary power available? (\\\\\"YES\\\\\" or \\\\\"NO\\\\\")\":\"None  \",\"Operation controlled by: (i.e., level in tank, pressure, etc.)\":\"Reservoir Level\",\"Pump to Waste capability? (\\\\\"YES\\\\\" or \\\\\"NO\\\\\")\":\"Yes - blind flange\",\"Discharges to: (i.e., distribution system, storage, etc.)\":\"Reservoir No. 1\"}'"
      ]
     },
     "execution_count": 18,
     "metadata": {},
     "output_type": "execute_result"
    }
   ],
   "source": [
    "dfs['pivot'].iloc[0].to_json()"
   ]
  }
 ],
 "metadata": {
  "kernelspec": {
   "display_name": "pandas-analysis-vJUI3m7a-py3.10",
   "language": "python",
   "name": "python3"
  },
  "language_info": {
   "codemirror_mode": {
    "name": "ipython",
    "version": 3
   },
   "file_extension": ".py",
   "mimetype": "text/x-python",
   "name": "python",
   "nbconvert_exporter": "python",
   "pygments_lexer": "ipython3",
   "version": "3.10.4"
  },
  "orig_nbformat": 4
 },
 "nbformat": 4,
 "nbformat_minor": 2
}
